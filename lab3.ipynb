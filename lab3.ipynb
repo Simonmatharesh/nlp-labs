{
  "nbformat": 4,
  "nbformat_minor": 0,
  "metadata": {
    "colab": {
      "provenance": [],
      "authorship_tag": "ABX9TyO+lEKRCBqp+mgc6UK8bOOG",
      "include_colab_link": true
    },
    "kernelspec": {
      "name": "python3",
      "display_name": "Python 3"
    },
    "language_info": {
      "name": "python"
    }
  },
  "cells": [
    {
      "cell_type": "markdown",
      "metadata": {
        "id": "view-in-github",
        "colab_type": "text"
      },
      "source": [
        "<a href=\"https://colab.research.google.com/github/Simonmatharesh/nlp-labs/blob/main/lab3.ipynb\" target=\"_parent\"><img src=\"https://colab.research.google.com/assets/colab-badge.svg\" alt=\"Open In Colab\"/></a>"
      ]
    },
    {
      "cell_type": "markdown",
      "source": [
        " Problem Statement\n",
        "Implement NLP techniques in the domain of EdTech/Learning Tools to:\n",
        "\n",
        "Work on two different non-English sentences related to the EdTech domain.\n",
        "\n",
        "Construct five different variations of the same English sentence and generate parse trees for each (total of 10 parse trees).\n",
        "\n",
        "Compare a sentence with and without converting to lowercase, to demonstrate the importance of case normalization in NLP.\n",
        "\n",
        "Take user input and generate a parse tree for the entered sentence.\n",
        "\n",
        "This task demonstrates how Natural Language Processing can be applied in educational platforms to enhance content understanding, personalization, and adaptability.\n",
        "\n"
      ],
      "metadata": {
        "id": "uODhnzPdGZPe"
      }
    },
    {
      "cell_type": "markdown",
      "source": [
        "Objective\n",
        "The objective of this program is to:\n",
        "\n",
        "Apply core Natural Language Processing (NLP) concepts such as tokenization, case normalization, and parsing in the context of EdTech.\n",
        "\n",
        "Show how NLP can help build intelligent learning tools that support adaptive content delivery, multilingual processing, and personalized feedback.\n",
        "\n",
        "Demonstrate conceptual clarity, logical structure, and interactivity through a functional Python implementation suitable for Google Colab.\n",
        "\n",
        "Align the code with evaluation rubrics focusing on domain relevance, program logic, complexity, and clarity of the implemented topic."
      ],
      "metadata": {
        "id": "laLUJt7DG8Qj"
      }
    },
    {
      "cell_type": "code",
      "source": [
        "# Install necessary packages\n",
        "!pip install nltk --quiet\n",
        "import nltk\n",
        "nltk.download('punkt')\n",
        "nltk.download('punkt_tab')\n",
        "nltk.download('averaged_perceptron_tagger_eng')\n",
        "nltk.download('averaged_perceptron_tagger')\n",
        "nltk.download('maxent_ne_chunker')\n",
        "nltk.download('words')\n",
        "\n",
        "from nltk import word_tokenize, pos_tag, ne_chunk, Tree\n",
        "from nltk.parse.corenlp import CoreNLPParser\n",
        "from nltk.tree import ParentedTree\n"
      ],
      "metadata": {
        "colab": {
          "base_uri": "https://localhost:8080/"
        },
        "id": "CezNmkgHG-v4",
        "outputId": "e88efb54-a672-48b5-ab96-7e7051f9c748"
      },
      "execution_count": null,
      "outputs": [
        {
          "output_type": "stream",
          "name": "stderr",
          "text": [
            "[nltk_data] Downloading package punkt to /root/nltk_data...\n",
            "[nltk_data]   Package punkt is already up-to-date!\n",
            "[nltk_data] Downloading package punkt_tab to /root/nltk_data...\n",
            "[nltk_data]   Package punkt_tab is already up-to-date!\n",
            "[nltk_data] Downloading package averaged_perceptron_tagger_eng to\n",
            "[nltk_data]     /root/nltk_data...\n",
            "[nltk_data]   Unzipping taggers/averaged_perceptron_tagger_eng.zip.\n",
            "[nltk_data] Downloading package averaged_perceptron_tagger to\n",
            "[nltk_data]     /root/nltk_data...\n",
            "[nltk_data]   Package averaged_perceptron_tagger is already up-to-\n",
            "[nltk_data]       date!\n",
            "[nltk_data] Downloading package maxent_ne_chunker to\n",
            "[nltk_data]     /root/nltk_data...\n",
            "[nltk_data]   Package maxent_ne_chunker is already up-to-date!\n",
            "[nltk_data] Downloading package words to /root/nltk_data...\n",
            "[nltk_data]   Package words is already up-to-date!\n"
          ]
        }
      ]
    },
    {
      "cell_type": "code",
      "source": [
        "# Non-English sentences in French and German\n",
        "frenchSentence = \"LearnWise est une plateforme d'apprentissage adaptatif.\"\n",
        "germanSentence = \"LearnWise ist ein adaptives Lernwerkzeug für Studenten.\"\n",
        "\n",
        "print(\"French Sentence:\", frenchSentence)\n",
        "print(\"German Sentence:\", germanSentence)\n"
      ],
      "metadata": {
        "colab": {
          "base_uri": "https://localhost:8080/"
        },
        "id": "jdLgs1eKHHhD",
        "outputId": "0a2e41f0-17c6-4a5f-a50a-f94826c4965c"
      },
      "execution_count": null,
      "outputs": [
        {
          "output_type": "stream",
          "name": "stdout",
          "text": [
            "French Sentence: LearnWise est une plateforme d'apprentissage adaptatif.\n",
            "German Sentence: LearnWise ist ein adaptives Lernwerkzeug für Studenten.\n"
          ]
        }
      ]
    },
    {
      "cell_type": "code",
      "source": [
        "# Sentences conveying the same idea\n",
        "sentences = [\n",
        "    \"LearnWise adapts content for each learner.\",\n",
        "    \"Each learner gets personalized content from LearnWise.\",\n",
        "    \"LearnWise provides personalized learning experiences.\",\n",
        "    \"The platform LearnWise tailors content to the learner.\",\n",
        "    \"Learning content is personalized by LearnWise.\"\n",
        "]\n"
      ],
      "metadata": {
        "id": "bR8HMifBHLxV"
      },
      "execution_count": null,
      "outputs": []
    },
    {
      "cell_type": "code",
      "source": [
        "def simple_parse_tree(sentence):\n",
        "    tokens = word_tokenize(sentence)\n",
        "    tags = pos_tag(tokens)\n",
        "    return Tree('S', [Tree(tag, [word]) for word, tag in tags])\n",
        "\n",
        "# Generate parse trees\n",
        "trees = []\n",
        "for sentence in sentences:\n",
        "    tree = simple_parse_tree(sentence)\n",
        "    trees.append(tree)\n",
        "    tree.pretty_print()\n"
      ],
      "metadata": {
        "colab": {
          "base_uri": "https://localhost:8080/"
        },
        "id": "BqDfZsVlHNmz",
        "outputId": "c2396b79-a8c3-4f4e-f259-ea1d769c0b04"
      },
      "execution_count": null,
      "outputs": [
        {
          "output_type": "stream",
          "name": "stdout",
          "text": [
            "                          S                  \n",
            "     _____________________|________________   \n",
            "   NNP     VBZ      NN    IN  DT     NN    . \n",
            "    |       |       |     |   |      |     |  \n",
            "LearnWise adapts content for each learner  . \n",
            "\n",
            "                       S                                 \n",
            "  _____________________|_______________________________   \n",
            " DT     NN   VBZ      VBN         NN    IN     NNP     . \n",
            " |      |     |        |          |     |       |      |  \n",
            "Each learner gets personalized content from LearnWise  . \n",
            "\n",
            "                        S                               \n",
            "     ___________________|_____________________________   \n",
            "   NNP      VBZ         JJ         NN        NNS      . \n",
            "    |        |          |          |          |       |  \n",
            "LearnWise provides personalized learning experiences  . \n",
            "\n",
            "                                  S                       \n",
            "  ________________________________|_____________________   \n",
            " DT    NN       NNP      NNS      NN    TO  DT    NN    . \n",
            " |     |         |        |       |     |   |     |     |  \n",
            "The platform LearnWise tailors content  to the learner  . \n",
            "\n",
            "                          S                        \n",
            "    ______________________|______________________   \n",
            "  VBG       NN   VBZ     VBN       IN    NNP     . \n",
            "   |        |     |       |        |      |      |  \n",
            "Learning content  is personalized  by LearnWise  . \n",
            "\n"
          ]
        }
      ]
    },
    {
      "cell_type": "code",
      "source": [
        "text1 = \"LearnWise helps Students Learn Better.\"\n",
        "text2 = \"learnwise helps students learn better.\"\n",
        "\n",
        "tokens1 = word_tokenize(text1)\n",
        "tokens2 = word_tokenize(text2)\n",
        "\n",
        "set1 = set(tokens1)\n",
        "set2 = set(tokens2)\n",
        "\n",
        "print(\"Tokens without lowercasing:\", tokens1)\n",
        "print(\"Tokens with lowercasing:\", [token.lower() for token in tokens1])\n",
        "\n",
        "print(\"\\nToken Set Comparison:\")\n",
        "print(\"Without Lowercase:\", set1)\n",
        "print(\"With Lowercase:\", set2)\n",
        "\n",
        "print(\"\\nCommon Tokens:\", set1.intersection(set2))\n",
        "print(\"Difference caused by casing:\", set1.symmetric_difference(set2))\n"
      ],
      "metadata": {
        "colab": {
          "base_uri": "https://localhost:8080/"
        },
        "id": "JPvZ78u3HPay",
        "outputId": "073a4619-d3f6-436b-8c58-e4fec5e97cfa"
      },
      "execution_count": null,
      "outputs": [
        {
          "output_type": "stream",
          "name": "stdout",
          "text": [
            "Tokens without lowercasing: ['LearnWise', 'helps', 'Students', 'Learn', 'Better', '.']\n",
            "Tokens with lowercasing: ['learnwise', 'helps', 'students', 'learn', 'better', '.']\n",
            "\n",
            "Token Set Comparison:\n",
            "Without Lowercase: {'LearnWise', 'helps', 'Learn', '.', 'Better', 'Students'}\n",
            "With Lowercase: {'helps', 'better', 'learnwise', '.', 'students', 'learn'}\n",
            "\n",
            "Common Tokens: {'helps', '.'}\n",
            "Difference caused by casing: {'better', 'LearnWise', 'learnwise', 'Students', 'students', 'Better', 'learn', 'Learn'}\n"
          ]
        }
      ]
    },
    {
      "cell_type": "code",
      "source": [
        "userInput = input(\"Enter an EdTech-related sentence: \")\n",
        "parsedTree = simple_parse_tree(userInput)\n",
        "\n",
        "print(\"\\nParsed Tree for your sentence:\")\n",
        "parsedTree.pretty_print()\n"
      ],
      "metadata": {
        "colab": {
          "base_uri": "https://localhost:8080/"
        },
        "id": "4RRdCynFHTYD",
        "outputId": "bee0fbfa-4450-455b-b101-3b4c69cc7e51"
      },
      "execution_count": null,
      "outputs": [
        {
          "output_type": "stream",
          "name": "stdout",
          "text": [
            "Enter an EdTech-related sentence: in 1945 there was world war and lot of jews died\n",
            "\n",
            "Parsed Tree for your sentence:\n",
            "                          S                       \n",
            "  ________________________|____________________    \n",
            " IN  CD    EX  VBD   NN   NN  CC  NN  IN NNS  VBD \n",
            " |   |     |    |    |    |   |   |   |   |    |   \n",
            " in 1945 there was world war and lot  of jews died\n",
            "\n"
          ]
        }
      ]
    }
  ]
}